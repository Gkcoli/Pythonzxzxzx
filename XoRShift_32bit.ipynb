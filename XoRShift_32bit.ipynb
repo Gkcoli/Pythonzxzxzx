{
  "nbformat": 4,
  "nbformat_minor": 0,
  "metadata": {
    "colab": {
      "provenance": [],
      "authorship_tag": "ABX9TyNSsiw13wX6eER36y29vMS3",
      "include_colab_link": true
    },
    "kernelspec": {
      "name": "python3",
      "display_name": "Python 3"
    },
    "language_info": {
      "name": "python"
    }
  },
  "cells": [
    {
      "cell_type": "markdown",
      "metadata": {
        "id": "view-in-github",
        "colab_type": "text"
      },
      "source": [
        "<a href=\"https://colab.research.google.com/github/Gkcoli/Pythonzxzxzx/blob/main/XoRShift_32bit.ipynb\" target=\"_parent\"><img src=\"https://colab.research.google.com/assets/colab-badge.svg\" alt=\"Open In Colab\"/></a>"
      ]
    },
    {
      "cell_type": "code",
      "execution_count": null,
      "metadata": {
        "id": "p8KgOtIJadkb"
      },
      "outputs": [],
      "source": [
        "class XORShift:\n",
        "    def __init__(self, seed: int):\n",
        "        # Initialize the state with a non-zero seed value\n",
        "        self.state = seed if seed != 0 else 1\n",
        "\n",
        "    def xorshift32(self) -> int:\n",
        "        # Ensure the state is a 32-bit unsigned integer\n",
        "        self.state &= 0xFFFFFFFF  # Annotation: Masking operation to ensure 32-bit unsigned integer\n",
        "\n",
        "        # Perform the XORShift operations\n",
        "        self.state ^= (self.state << 13) & 0xFFFFFFFF  # Annotation: Left shift and XOR operation\n",
        "        self.state ^= (self.state >> 17) & 0xFFFFFFFF  # Annotation: Right shift and XOR operation\n",
        "        self.state ^= (self.state << 5) & 0xFFFFFFFF  # Annotation: Left shift and XOR operation\n",
        "\n",
        "        # Return the updated state\n",
        "        return self.state\n",
        "\n",
        "# Example usage:\n",
        "rng = XORShift(seed=12345)\n",
        "\n",
        "# Generate random numbers and count elementary operations\n",
        "for _ in range(10):  # Outer loop for generating 10 random numbers\n",
        "    result = rng.xorshift32()  # Call xorshift32 method\n",
        "    print(result)  # Print the generated random number\n"
      ]
    },
    {
      "cell_type": "code",
      "source": [],
      "metadata": {
        "id": "DUzAWlQijSFZ"
      },
      "execution_count": null,
      "outputs": []
    }
  ]
}